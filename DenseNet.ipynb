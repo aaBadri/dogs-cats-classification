{
  "nbformat": 4,
  "nbformat_minor": 0,
  "metadata": {
    "colab": {
      "name": "DenseNet.ipynb",
      "provenance": [],
      "toc_visible": true,
      "authorship_tag": "ABX9TyMPXkHT9N3i+6FRwUK56AwO",
      "include_colab_link": true
    },
    "kernelspec": {
      "name": "python3",
      "display_name": "Python 3"
    },
    "accelerator": "GPU"
  },
  "cells": [
    {
      "cell_type": "markdown",
      "metadata": {
        "id": "view-in-github",
        "colab_type": "text"
      },
      "source": [
        "<a href=\"https://colab.research.google.com/github/aliakbarbadri/dogs-cats-classification/blob/master/DenseNet.ipynb\" target=\"_parent\"><img src=\"https://colab.research.google.com/assets/colab-badge.svg\" alt=\"Open In Colab\"/></a>"
      ]
    },
    {
      "cell_type": "code",
      "metadata": {
        "id": "aCqgHdFBDvaM",
        "colab_type": "code",
        "colab": {}
      },
      "source": [
        "import tensorflow as tf\n",
        "from tensorflow import keras\n",
        "from tensorflow.keras.models import Sequential\n",
        "from tensorflow.keras.layers import Dense, Conv2D, Flatten, Dropout, MaxPooling2D, Activation\n",
        "from tensorflow.keras.applications import DenseNet169\n",
        "import tensorflow_datasets as tfds\n",
        "import numpy as np\n",
        "import os\n",
        "import matplotlib.pyplot as plt\n",
        "import pandas as pd\n",
        "from google.colab import files"
      ],
      "execution_count": 0,
      "outputs": []
    },
    {
      "cell_type": "markdown",
      "metadata": {
        "id": "WdwlrpTlWEqS",
        "colab_type": "text"
      },
      "source": [
        "https://www.kaggle.com/xhlulu/densenet-transfer-learning-iwildcam-2019\n",
        "\n",
        "https://www.tensorflow.org/tutorials/images/transfer_learning"
      ]
    },
    {
      "cell_type": "code",
      "metadata": {
        "id": "9v5aXL7bUBYR",
        "colab_type": "code",
        "colab": {}
      },
      "source": [
        "(raw_train, raw_valid, raw_test), info = tfds.load(\n",
        "    'cats_vs_dogs',\n",
        "    split=['train[:60%]', 'train[60%:90%]', 'train[90%:]'],\n",
        "    with_info=True,\n",
        "    as_supervised=True,\n",
        ")"
      ],
      "execution_count": 0,
      "outputs": []
    },
    {
      "cell_type": "code",
      "metadata": {
        "id": "yjGwbVYZUE91",
        "colab_type": "code",
        "colab": {}
      },
      "source": [
        "IMG_SIZE = 160\n",
        "def resize_image(image, label):\n",
        "  image = tf.cast(image, tf.float32)\n",
        "  image = (image/127.5) - 1\n",
        "  image = tf.image.resize(image, (IMG_SIZE, IMG_SIZE))\n",
        "  return image, label"
      ],
      "execution_count": 0,
      "outputs": []
    },
    {
      "cell_type": "code",
      "metadata": {
        "id": "wT0h-ywmUHjp",
        "colab_type": "code",
        "colab": {}
      },
      "source": [
        "train = raw_train.map(resize_image)\n",
        "valid = raw_valid.map(resize_image)\n",
        "test = raw_test.map(resize_image)"
      ],
      "execution_count": 0,
      "outputs": []
    },
    {
      "cell_type": "code",
      "metadata": {
        "id": "JrsbGr76UJQy",
        "colab_type": "code",
        "colab": {}
      },
      "source": [
        "BATCH_SIZE = 32\n",
        "SHUFFLE_BUFFER_SIZE = 1000\n",
        "train_batches = train.shuffle(SHUFFLE_BUFFER_SIZE).batch(BATCH_SIZE)\n",
        "valid_batches = valid.batch(BATCH_SIZE)\n",
        "test_batches = test.batch(BATCH_SIZE)"
      ],
      "execution_count": 0,
      "outputs": []
    },
    {
      "cell_type": "code",
      "metadata": {
        "id": "2h763kFsUPHR",
        "colab_type": "code",
        "colab": {}
      },
      "source": [
        "IMG_SHAPE = (IMG_SIZE, IMG_SIZE, 3)"
      ],
      "execution_count": 0,
      "outputs": []
    },
    {
      "cell_type": "code",
      "metadata": {
        "id": "jabl2Kisz15B",
        "colab_type": "code",
        "outputId": "b638a986-2129-486c-a178-bd336c61525f",
        "colab": {
          "base_uri": "https://localhost:8080/",
          "height": 34
        }
      },
      "source": [
        "for image_batch, label_batch in train_batches.take(1):\n",
        "   pass\n",
        "\n",
        "image_batch.shape"
      ],
      "execution_count": 7,
      "outputs": [
        {
          "output_type": "execute_result",
          "data": {
            "text/plain": [
              "TensorShape([32, 160, 160, 3])"
            ]
          },
          "metadata": {
            "tags": []
          },
          "execution_count": 7
        }
      ]
    },
    {
      "cell_type": "code",
      "metadata": {
        "id": "T2t8fH_yURkv",
        "colab_type": "code",
        "outputId": "7ae8eeb9-8b83-4378-9189-8bf4bf961b0a",
        "colab": {
          "base_uri": "https://localhost:8080/",
          "height": 34
        }
      },
      "source": [
        "densenet = DenseNet169(include_top=False,input_shape=IMG_SHAPE,weights='imagenet')\n",
        "feature_batch = densenet(image_batch)\n",
        "print(feature_batch.shape)"
      ],
      "execution_count": 8,
      "outputs": [
        {
          "output_type": "stream",
          "text": [
            "(32, 5, 5, 1664)\n"
          ],
          "name": "stdout"
        }
      ]
    },
    {
      "cell_type": "code",
      "metadata": {
        "id": "9miXzM-YWxBF",
        "colab_type": "code",
        "colab": {}
      },
      "source": [
        "densenet.trainable = False"
      ],
      "execution_count": 0,
      "outputs": []
    },
    {
      "cell_type": "code",
      "metadata": {
        "id": "pp2oyAmeZFwg",
        "colab_type": "code",
        "outputId": "83676c34-5075-4fd9-ddc4-c93041ccb1b0",
        "colab": {
          "base_uri": "https://localhost:8080/",
          "height": 51
        }
      },
      "source": [
        "global_average_layer = tf.keras.layers.GlobalAveragePooling2D()\n",
        "feature_batch_average = global_average_layer(feature_batch)\n",
        "print(feature_batch_average.shape)\n",
        "\n",
        "prediction_layer = tf.keras.layers.Dense(1)\n",
        "prediction_batch = prediction_layer(feature_batch_average)\n",
        "print(prediction_batch.shape)"
      ],
      "execution_count": 10,
      "outputs": [
        {
          "output_type": "stream",
          "text": [
            "(32, 1664)\n",
            "(32, 1)\n"
          ],
          "name": "stdout"
        }
      ]
    },
    {
      "cell_type": "code",
      "metadata": {
        "id": "5ZcxilZob183",
        "colab_type": "code",
        "colab": {}
      },
      "source": [
        "model = tf.keras.Sequential([\n",
        "  densenet,\n",
        "  global_average_layer,\n",
        "  prediction_layer\n",
        "])"
      ],
      "execution_count": 0,
      "outputs": []
    },
    {
      "cell_type": "code",
      "metadata": {
        "id": "9eeO4qHjZLar",
        "colab_type": "code",
        "colab": {}
      },
      "source": [
        "model.compile(optimizer=tf.keras.optimizers.RMSprop(lr=0.0001),\n",
        "              loss=tf.keras.losses.BinaryCrossentropy(from_logits=True),\n",
        "              metrics=['accuracy'])"
      ],
      "execution_count": 0,
      "outputs": []
    },
    {
      "cell_type": "code",
      "metadata": {
        "id": "NM2ekDihZVtG",
        "colab_type": "code",
        "outputId": "2c549e1b-42b6-4492-88c0-d779e2c29221",
        "colab": {
          "base_uri": "https://localhost:8080/",
          "height": 255
        }
      },
      "source": [
        "model.summary()"
      ],
      "execution_count": 13,
      "outputs": [
        {
          "output_type": "stream",
          "text": [
            "Model: \"sequential\"\n",
            "_________________________________________________________________\n",
            "Layer (type)                 Output Shape              Param #   \n",
            "=================================================================\n",
            "densenet169 (Model)          (None, 5, 5, 1664)        12642880  \n",
            "_________________________________________________________________\n",
            "global_average_pooling2d (Gl (None, 1664)              0         \n",
            "_________________________________________________________________\n",
            "dense (Dense)                (None, 1)                 1665      \n",
            "=================================================================\n",
            "Total params: 12,644,545\n",
            "Trainable params: 1,665\n",
            "Non-trainable params: 12,642,880\n",
            "_________________________________________________________________\n"
          ],
          "name": "stdout"
        }
      ]
    },
    {
      "cell_type": "code",
      "metadata": {
        "id": "zbRCM-bqaSlT",
        "colab_type": "code",
        "outputId": "a8f24af6-bed9-4b6d-bec2-2644a950c521",
        "colab": {
          "base_uri": "https://localhost:8080/",
          "height": 357
        }
      },
      "source": [
        "history = model.fit(train_batches,epochs=10,validation_data=valid_batches)"
      ],
      "execution_count": 14,
      "outputs": [
        {
          "output_type": "stream",
          "text": [
            "Epoch 1/10\n",
            "437/437 [==============================] - 70s 161ms/step - loss: 0.2079 - accuracy: 0.9185 - val_loss: 0.0768 - val_accuracy: 0.9778\n",
            "Epoch 2/10\n",
            "437/437 [==============================] - 66s 151ms/step - loss: 0.0662 - accuracy: 0.9779 - val_loss: 0.0519 - val_accuracy: 0.9850\n",
            "Epoch 3/10\n",
            "437/437 [==============================] - 66s 150ms/step - loss: 0.0518 - accuracy: 0.9814 - val_loss: 0.0436 - val_accuracy: 0.9865\n",
            "Epoch 4/10\n",
            "437/437 [==============================] - 65s 149ms/step - loss: 0.0456 - accuracy: 0.9840 - val_loss: 0.0397 - val_accuracy: 0.9870\n",
            "Epoch 5/10\n",
            "437/437 [==============================] - 65s 149ms/step - loss: 0.0420 - accuracy: 0.9850 - val_loss: 0.0381 - val_accuracy: 0.9874\n",
            "Epoch 6/10\n",
            "437/437 [==============================] - 65s 149ms/step - loss: 0.0398 - accuracy: 0.9855 - val_loss: 0.0358 - val_accuracy: 0.9880\n",
            "Epoch 7/10\n",
            "437/437 [==============================] - 66s 151ms/step - loss: 0.0380 - accuracy: 0.9857 - val_loss: 0.0347 - val_accuracy: 0.9883\n",
            "Epoch 8/10\n",
            "437/437 [==============================] - 66s 150ms/step - loss: 0.0367 - accuracy: 0.9860 - val_loss: 0.0345 - val_accuracy: 0.9885\n",
            "Epoch 9/10\n",
            "437/437 [==============================] - 67s 152ms/step - loss: 0.0356 - accuracy: 0.9865 - val_loss: 0.0333 - val_accuracy: 0.9887\n",
            "Epoch 10/10\n",
            "437/437 [==============================] - 68s 155ms/step - loss: 0.0346 - accuracy: 0.9879 - val_loss: 0.0334 - val_accuracy: 0.9893\n"
          ],
          "name": "stdout"
        }
      ]
    },
    {
      "cell_type": "code",
      "metadata": {
        "id": "yrkQNPu7cFY4",
        "colab_type": "code",
        "outputId": "1cb36fa0-03ee-4a58-87d1-76ae12de2153",
        "colab": {
          "base_uri": "https://localhost:8080/",
          "height": 51
        }
      },
      "source": [
        "model.evaluate(test_batches)"
      ],
      "execution_count": 15,
      "outputs": [
        {
          "output_type": "stream",
          "text": [
            "73/73 [==============================] - 8s 107ms/step - loss: 0.0404 - accuracy: 0.9845\n"
          ],
          "name": "stdout"
        },
        {
          "output_type": "execute_result",
          "data": {
            "text/plain": [
              "[0.04036024957895279, 0.9845227599143982]"
            ]
          },
          "metadata": {
            "tags": []
          },
          "execution_count": 15
        }
      ]
    },
    {
      "cell_type": "code",
      "metadata": {
        "id": "yX9qvSopaU2n",
        "colab_type": "code",
        "outputId": "c29f8fca-adc6-4481-860a-056af5095044",
        "colab": {
          "base_uri": "https://localhost:8080/",
          "height": 483
        }
      },
      "source": [
        "pd.DataFrame({'loss':history.history['loss'],\n",
        "              'valid_loss':history.history['val_loss'],\n",
        "              }).plot(figsize=(8, 8))\n",
        "plt.grid(True)"
      ],
      "execution_count": 16,
      "outputs": [
        {
          "output_type": "display_data",
          "data": {
            "image/png": "[encoded data removed]",
            "text/plain": [
              "<Figure size 576x576 with 1 Axes>"
            ]
          },
          "metadata": {
            "tags": [],
            "needs_background": "light"
          }
        }
      ]
    },
    {
      "cell_type": "code",
      "metadata": {
        "id": "sAhtJsanaoHz",
        "colab_type": "code",
        "outputId": "53f1eea6-5f6b-4fce-f5fa-50ecfeeb3b6b",
        "colab": {
          "base_uri": "https://localhost:8080/",
          "height": 483
        }
      },
      "source": [
        "pd.DataFrame({'accuracy':history.history['accuracy'],\n",
        "              'val_accuracy':history.history['val_accuracy']\n",
        "              }).plot(figsize=(8, 8))\n",
        "plt.grid(True)"
      ],
      "execution_count": 17,
      "outputs": [
        {
          "output_type": "display_data",
          "data": {
            "image/png": "[encoded data removed]",
            "text/plain": [
              "<Figure size 576x576 with 1 Axes>"
            ]
          },
          "metadata": {
            "tags": [],
            "needs_background": "light"
          }
        }
      ]
    },
    {
      "cell_type": "code",
      "metadata": {
        "id": "xTETNhFRc6XD",
        "colab_type": "code",
        "colab": {}
      },
      "source": [
        "model.save(\"densenet.h5\")"
      ],
      "execution_count": 0,
      "outputs": []
    },
    {
      "cell_type": "markdown",
      "metadata": {
        "id": "i4GInig6tkIg",
        "colab_type": "text"
      },
      "source": [
        "#Fine tune"
      ]
    },
    {
      "cell_type": "code",
      "metadata": {
        "id": "ZMO9GD9gtWy4",
        "colab_type": "code",
        "colab": {}
      },
      "source": [
        "densenet.trainable = True"
      ],
      "execution_count": 0,
      "outputs": []
    },
    {
      "cell_type": "code",
      "metadata": {
        "id": "B0hiVcCJtvv6",
        "colab_type": "code",
        "outputId": "a431e0ff-8c3a-43b3-bd27-9dd5f186d31a",
        "colab": {
          "base_uri": "https://localhost:8080/",
          "height": 34
        }
      },
      "source": [
        "len(densenet.layers)"
      ],
      "execution_count": 20,
      "outputs": [
        {
          "output_type": "execute_result",
          "data": {
            "text/plain": [
              "595"
            ]
          },
          "metadata": {
            "tags": []
          },
          "execution_count": 20
        }
      ]
    },
    {
      "cell_type": "code",
      "metadata": {
        "id": "7NlEme-tu8sf",
        "colab_type": "code",
        "colab": {}
      },
      "source": [
        "fine_tune_at = 100\n",
        "for layer in densenet.layers[:fine_tune_at]:\n",
        "  layer.trainable =  False"
      ],
      "execution_count": 0,
      "outputs": []
    },
    {
      "cell_type": "code",
      "metadata": {
        "id": "gNIE9ovXtxT8",
        "colab_type": "code",
        "outputId": "4f140e53-2f15-43bf-e161-95e337301be1",
        "colab": {
          "base_uri": "https://localhost:8080/",
          "height": 255
        }
      },
      "source": [
        "model.compile(loss=tf.keras.losses.BinaryCrossentropy(from_logits=True),\n",
        "              optimizer = tf.keras.optimizers.RMSprop(lr=0.00001),\n",
        "              metrics=['accuracy'])\n",
        "model.summary()"
      ],
      "execution_count": 22,
      "outputs": [
        {
          "output_type": "stream",
          "text": [
            "Model: \"sequential\"\n",
            "_________________________________________________________________\n",
            "Layer (type)                 Output Shape              Param #   \n",
            "=================================================================\n",
            "densenet169 (Model)          (None, 5, 5, 1664)        12642880  \n",
            "_________________________________________________________________\n",
            "global_average_pooling2d (Gl (None, 1664)              0         \n",
            "_________________________________________________________________\n",
            "dense (Dense)                (None, 1)                 1665      \n",
            "=================================================================\n",
            "Total params: 12,644,545\n",
            "Trainable params: 11,681,473\n",
            "Non-trainable params: 963,072\n",
            "_________________________________________________________________\n"
          ],
          "name": "stdout"
        }
      ]
    },
    {
      "cell_type": "code",
      "metadata": {
        "id": "8ZChOMUvt7-6",
        "colab_type": "code",
        "outputId": "e8861301-b2d9-4965-93e3-9d7e3718a4e9",
        "colab": {
          "base_uri": "https://localhost:8080/",
          "height": 391
        }
      },
      "source": [
        "total_epochs =  20\n",
        "\n",
        "history_fine = model.fit(train_batches,\n",
        "                         epochs=total_epochs,\n",
        "                         initial_epoch =  history.epoch[-1],\n",
        "                         validation_data=valid_batches)"
      ],
      "execution_count": 23,
      "outputs": [
        {
          "output_type": "stream",
          "text": [
            "Epoch 10/20\n",
            "437/437 [==============================] - 116s 266ms/step - loss: 0.0773 - accuracy: 0.9688 - val_loss: 0.0359 - val_accuracy: 0.9864\n",
            "Epoch 11/20\n",
            "437/437 [==============================] - 113s 259ms/step - loss: 0.0310 - accuracy: 0.9883 - val_loss: 0.0332 - val_accuracy: 0.9891\n",
            "Epoch 12/20\n",
            "437/437 [==============================] - 112s 256ms/step - loss: 0.0147 - accuracy: 0.9953 - val_loss: 0.0314 - val_accuracy: 0.9901\n",
            "Epoch 13/20\n",
            "437/437 [==============================] - 112s 256ms/step - loss: 0.0058 - accuracy: 0.9984 - val_loss: 0.0328 - val_accuracy: 0.9895\n",
            "Epoch 14/20\n",
            "437/437 [==============================] - 112s 257ms/step - loss: 0.0038 - accuracy: 0.9989 - val_loss: 0.0357 - val_accuracy: 0.9897\n",
            "Epoch 15/20\n",
            "437/437 [==============================] - 113s 258ms/step - loss: 0.0030 - accuracy: 0.9991 - val_loss: 0.0422 - val_accuracy: 0.9900\n",
            "Epoch 16/20\n",
            "437/437 [==============================] - 113s 257ms/step - loss: 0.0020 - accuracy: 0.9993 - val_loss: 0.0416 - val_accuracy: 0.9913\n",
            "Epoch 17/20\n",
            "437/437 [==============================] - 112s 255ms/step - loss: 8.8104e-04 - accuracy: 0.9998 - val_loss: 0.0439 - val_accuracy: 0.9893\n",
            "Epoch 18/20\n",
            "437/437 [==============================] - 111s 254ms/step - loss: 6.0223e-04 - accuracy: 0.9999 - val_loss: 0.0491 - val_accuracy: 0.9900\n",
            "Epoch 19/20\n",
            "437/437 [==============================] - 111s 254ms/step - loss: 3.7752e-04 - accuracy: 0.9999 - val_loss: 0.0464 - val_accuracy: 0.9913\n",
            "Epoch 20/20\n",
            "437/437 [==============================] - 112s 257ms/step - loss: 9.2507e-05 - accuracy: 1.0000 - val_loss: 0.0632 - val_accuracy: 0.9900\n"
          ],
          "name": "stdout"
        }
      ]
    },
    {
      "cell_type": "code",
      "metadata": {
        "id": "KoGWtkvxLDB0",
        "colab_type": "code",
        "outputId": "35ab3990-e84e-445f-bd8c-e5cda2c875a4",
        "colab": {
          "base_uri": "https://localhost:8080/",
          "height": 51
        }
      },
      "source": [
        "model.evaluate(test_batches)"
      ],
      "execution_count": 24,
      "outputs": [
        {
          "output_type": "stream",
          "text": [
            "73/73 [==============================] - 6s 88ms/step - loss: 0.0771 - accuracy: 0.9910\n"
          ],
          "name": "stdout"
        },
        {
          "output_type": "execute_result",
          "data": {
            "text/plain": [
              "[0.07711414247751236, 0.9909716248512268]"
            ]
          },
          "metadata": {
            "tags": []
          },
          "execution_count": 24
        }
      ]
    },
    {
      "cell_type": "code",
      "metadata": {
        "id": "qel06YCFQXS8",
        "colab_type": "code",
        "colab": {}
      },
      "source": [
        "model.save(\"densenet_finetuned_495.h5\")"
      ],
      "execution_count": 0,
      "outputs": []
    },
    {
      "cell_type": "code",
      "metadata": {
        "id": "NDzvwXR-oDkh",
        "colab_type": "code",
        "colab": {}
      },
      "source": [
        "files.download(\"densenet_finetuned_495.h5\")"
      ],
      "execution_count": 0,
      "outputs": []
    }
  ]
}