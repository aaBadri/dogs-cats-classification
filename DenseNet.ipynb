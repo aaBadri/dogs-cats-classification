{
  "nbformat": 4,
  "nbformat_minor": 0,
  "metadata": {
    "colab": {
      "name": "DenseNet.ipynb",
      "provenance": [],
      "toc_visible": true,
      "authorship_tag": "ABX9TyNr1yQ+YWEpDLeYgt333D4Q",
      "include_colab_link": true
    },
    "kernelspec": {
      "name": "python3",
      "display_name": "Python 3"
    },
    "accelerator": "GPU"
  },
  "cells": [
    {
      "cell_type": "markdown",
      "metadata": {
        "id": "view-in-github",
        "colab_type": "text"
      },
      "source": [
        "<a href=\"https://colab.research.google.com/github/aliakbarbadri/dogs-cats-classification/blob/master/DenseNet.ipynb\" target=\"_parent\"><img src=\"https://colab.research.google.com/assets/colab-badge.svg\" alt=\"Open In Colab\"/></a>"
      ]
    },
    {
      "cell_type": "code",
      "metadata": {
        "id": "aCqgHdFBDvaM",
        "colab_type": "code",
        "colab": {}
      },
      "source": [
        "import tensorflow as tf\n",
        "from tensorflow import keras\n",
        "from tensorflow.keras.models import Sequential\n",
        "from tensorflow.keras.layers import Dense, Conv2D, Flatten, Dropout, MaxPooling2D, Activation\n",
        "from tensorflow.keras.applications import DenseNet169\n",
        "import tensorflow_datasets as tfds\n",
        "import numpy as np\n",
        "import os\n",
        "import matplotlib.pyplot as plt\n",
        "import pandas as pd\n",
        "from google.colab import files"
      ],
      "execution_count": 0,
      "outputs": []
    },
    {
      "cell_type": "markdown",
      "metadata": {
        "id": "WdwlrpTlWEqS",
        "colab_type": "text"
      },
      "source": [
        "https://www.kaggle.com/xhlulu/densenet-transfer-learning-iwildcam-2019\n",
        "\n",
        "https://www.tensorflow.org/tutorials/images/transfer_learning"
      ]
    },
    {
      "cell_type": "code",
      "metadata": {
        "id": "9v5aXL7bUBYR",
        "colab_type": "code",
        "colab": {}
      },
      "source": [
        "(raw_train, raw_valid, raw_test), info = tfds.load(\n",
        "    'cats_vs_dogs',\n",
        "    split=['train[:60%]', 'train[60%:90%]', 'train[90%:]'],\n",
        "    with_info=True,\n",
        "    as_supervised=True,\n",
        ")"
      ],
      "execution_count": 0,
      "outputs": []
    },
    {
      "cell_type": "code",
      "metadata": {
        "id": "yjGwbVYZUE91",
        "colab_type": "code",
        "colab": {}
      },
      "source": [
        "IMG_SIZE = 160\n",
        "def resize_image(image, label):\n",
        "  image = tf.cast(image, tf.float32)\n",
        "  image = (image/127.5) - 1\n",
        "  image = tf.image.resize(image, (IMG_SIZE, IMG_SIZE))\n",
        "  return image, label"
      ],
      "execution_count": 0,
      "outputs": []
    },
    {
      "cell_type": "code",
      "metadata": {
        "id": "wT0h-ywmUHjp",
        "colab_type": "code",
        "colab": {}
      },
      "source": [
        "train = raw_train.map(resize_image)\n",
        "valid = raw_valid.map(resize_image)\n",
        "test = raw_test.map(resize_image)"
      ],
      "execution_count": 0,
      "outputs": []
    },
    {
      "cell_type": "code",
      "metadata": {
        "id": "JrsbGr76UJQy",
        "colab_type": "code",
        "colab": {}
      },
      "source": [
        "BATCH_SIZE = 32\n",
        "SHUFFLE_BUFFER_SIZE = 1000\n",
        "train_batches = train.shuffle(SHUFFLE_BUFFER_SIZE).batch(BATCH_SIZE)\n",
        "valid_batches = valid.batch(BATCH_SIZE)\n",
        "test_batches = test.batch(BATCH_SIZE)"
      ],
      "execution_count": 0,
      "outputs": []
    },
    {
      "cell_type": "code",
      "metadata": {
        "id": "2h763kFsUPHR",
        "colab_type": "code",
        "colab": {}
      },
      "source": [
        "IMG_SHAPE = (IMG_SIZE, IMG_SIZE, 3)"
      ],
      "execution_count": 0,
      "outputs": []
    },
    {
      "cell_type": "code",
      "metadata": {
        "id": "jabl2Kisz15B",
        "colab_type": "code",
        "colab": {
          "base_uri": "https://localhost:8080/",
          "height": 34
        },
        "outputId": "ebcaef3f-fde1-466c-bddc-583925c68497"
      },
      "source": [
        "for image_batch, label_batch in train_batches.take(1):\n",
        "   pass\n",
        "\n",
        "image_batch.shape"
      ],
      "execution_count": 7,
      "outputs": [
        {
          "output_type": "execute_result",
          "data": {
            "text/plain": [
              "TensorShape([32, 160, 160, 3])"
            ]
          },
          "metadata": {
            "tags": []
          },
          "execution_count": 7
        }
      ]
    },
    {
      "cell_type": "code",
      "metadata": {
        "id": "T2t8fH_yURkv",
        "colab_type": "code",
        "colab": {
          "base_uri": "https://localhost:8080/",
          "height": 34
        },
        "outputId": "ff94ef9d-ac15-4bd0-cf78-4ce7594a4a9d"
      },
      "source": [
        "densenet = DenseNet169(include_top=False,input_shape=IMG_SHAPE,weights='imagenet')\n",
        "feature_batch = densenet(image_batch)\n",
        "print(feature_batch.shape)"
      ],
      "execution_count": 8,
      "outputs": [
        {
          "output_type": "stream",
          "text": [
            "(32, 5, 5, 1664)\n"
          ],
          "name": "stdout"
        }
      ]
    },
    {
      "cell_type": "code",
      "metadata": {
        "id": "9miXzM-YWxBF",
        "colab_type": "code",
        "colab": {}
      },
      "source": [
        "densenet.trainable = False"
      ],
      "execution_count": 0,
      "outputs": []
    },
    {
      "cell_type": "code",
      "metadata": {
        "id": "pp2oyAmeZFwg",
        "colab_type": "code",
        "colab": {
          "base_uri": "https://localhost:8080/",
          "height": 51
        },
        "outputId": "8cbf442c-e557-47ec-a7f6-85ed17c5633a"
      },
      "source": [
        "global_average_layer = tf.keras.layers.GlobalAveragePooling2D()\n",
        "feature_batch_average = global_average_layer(feature_batch)\n",
        "print(feature_batch_average.shape)\n",
        "\n",
        "prediction_layer = tf.keras.layers.Dense(1)\n",
        "prediction_batch = prediction_layer(feature_batch_average)\n",
        "print(prediction_batch.shape)"
      ],
      "execution_count": 10,
      "outputs": [
        {
          "output_type": "stream",
          "text": [
            "(32, 1664)\n",
            "(32, 1)\n"
          ],
          "name": "stdout"
        }
      ]
    },
    {
      "cell_type": "code",
      "metadata": {
        "id": "5ZcxilZob183",
        "colab_type": "code",
        "colab": {}
      },
      "source": [
        "model = tf.keras.Sequential([\n",
        "  densenet,\n",
        "  global_average_layer,\n",
        "  prediction_layer\n",
        "])"
      ],
      "execution_count": 0,
      "outputs": []
    },
    {
      "cell_type": "code",
      "metadata": {
        "id": "9eeO4qHjZLar",
        "colab_type": "code",
        "colab": {}
      },
      "source": [
        "model.compile(optimizer=tf.keras.optimizers.RMSprop(lr=0.0001),\n",
        "              loss=tf.keras.losses.BinaryCrossentropy(from_logits=True),\n",
        "              metrics=['accuracy'])"
      ],
      "execution_count": 0,
      "outputs": []
    },
    {
      "cell_type": "code",
      "metadata": {
        "id": "NM2ekDihZVtG",
        "colab_type": "code",
        "colab": {
          "base_uri": "https://localhost:8080/",
          "height": 255
        },
        "outputId": "0ecc539f-d1f7-4e68-fb49-09fb2b3b34fc"
      },
      "source": [
        "model.summary()"
      ],
      "execution_count": 13,
      "outputs": [
        {
          "output_type": "stream",
          "text": [
            "Model: \"sequential\"\n",
            "_________________________________________________________________\n",
            "Layer (type)                 Output Shape              Param #   \n",
            "=================================================================\n",
            "densenet169 (Model)          (None, 5, 5, 1664)        12642880  \n",
            "_________________________________________________________________\n",
            "global_average_pooling2d (Gl (None, 1664)              0         \n",
            "_________________________________________________________________\n",
            "dense (Dense)                (None, 1)                 1665      \n",
            "=================================================================\n",
            "Total params: 12,644,545\n",
            "Trainable params: 1,665\n",
            "Non-trainable params: 12,642,880\n",
            "_________________________________________________________________\n"
          ],
          "name": "stdout"
        }
      ]
    },
    {
      "cell_type": "code",
      "metadata": {
        "id": "zbRCM-bqaSlT",
        "colab_type": "code",
        "colab": {
          "base_uri": "https://localhost:8080/",
          "height": 357
        },
        "outputId": "12ceff2e-be93-4860-b568-57e068dabeeb"
      },
      "source": [
        "history = model.fit(train_batches,epochs=10,validation_data=valid_batches)"
      ],
      "execution_count": 14,
      "outputs": [
        {
          "output_type": "stream",
          "text": [
            "Epoch 1/10\n",
            "437/437 [==============================] - 70s 160ms/step - loss: 0.3014 - accuracy: 0.8654 - val_loss: 0.0784 - val_accuracy: 0.9766\n",
            "Epoch 2/10\n",
            "437/437 [==============================] - 66s 151ms/step - loss: 0.0660 - accuracy: 0.9781 - val_loss: 0.0515 - val_accuracy: 0.9828\n",
            "Epoch 3/10\n",
            "437/437 [==============================] - 65s 148ms/step - loss: 0.0520 - accuracy: 0.9815 - val_loss: 0.0439 - val_accuracy: 0.9851\n",
            "Epoch 4/10\n",
            "437/437 [==============================] - 64s 147ms/step - loss: 0.0465 - accuracy: 0.9833 - val_loss: 0.0416 - val_accuracy: 0.9857\n",
            "Epoch 5/10\n",
            "437/437 [==============================] - 65s 148ms/step - loss: 0.0431 - accuracy: 0.9837 - val_loss: 0.0383 - val_accuracy: 0.9861\n",
            "Epoch 6/10\n",
            "437/437 [==============================] - 64s 147ms/step - loss: 0.0407 - accuracy: 0.9852 - val_loss: 0.0365 - val_accuracy: 0.9874\n",
            "Epoch 7/10\n",
            "437/437 [==============================] - 66s 152ms/step - loss: 0.0390 - accuracy: 0.9857 - val_loss: 0.0357 - val_accuracy: 0.9878\n",
            "Epoch 8/10\n",
            "437/437 [==============================] - 65s 150ms/step - loss: 0.0376 - accuracy: 0.9864 - val_loss: 0.0351 - val_accuracy: 0.9877\n",
            "Epoch 9/10\n",
            "437/437 [==============================] - 65s 148ms/step - loss: 0.0364 - accuracy: 0.9865 - val_loss: 0.0344 - val_accuracy: 0.9887\n",
            "Epoch 10/10\n",
            "437/437 [==============================] - 65s 149ms/step - loss: 0.0353 - accuracy: 0.9865 - val_loss: 0.0338 - val_accuracy: 0.9887\n"
          ],
          "name": "stdout"
        }
      ]
    },
    {
      "cell_type": "code",
      "metadata": {
        "id": "yrkQNPu7cFY4",
        "colab_type": "code",
        "colab": {
          "base_uri": "https://localhost:8080/",
          "height": 51
        },
        "outputId": "ef062d25-0135-4c49-c566-077c2cb86c2e"
      },
      "source": [
        "model.evaluate(test_batches)"
      ],
      "execution_count": 15,
      "outputs": [
        {
          "output_type": "stream",
          "text": [
            "73/73 [==============================] - 8s 103ms/step - loss: 0.0418 - accuracy: 0.9832\n"
          ],
          "name": "stdout"
        },
        {
          "output_type": "execute_result",
          "data": {
            "text/plain": [
              "[0.04176894575357437, 0.9832330346107483]"
            ]
          },
          "metadata": {
            "tags": []
          },
          "execution_count": 15
        }
      ]
    },
    {
      "cell_type": "code",
      "metadata": {
        "id": "yX9qvSopaU2n",
        "colab_type": "code",
        "colab": {
          "base_uri": "https://localhost:8080/",
          "height": 483
        },
        "outputId": "e8b3dd26-6cae-4648-f434-a2dddd487e28"
      },
      "source": [
        "pd.DataFrame({'loss':history.history['loss'],\n",
        "              'valid_loss':history.history['val_loss'],\n",
        "              }).plot(figsize=(8, 8))\n",
        "plt.grid(True)"
      ],
      "execution_count": 16,
      "outputs": [
        {
          "output_type": "display_data",
          "data": {
            "image/png": "[encoded data removed]",
            "text/plain": [
              "<Figure size 576x576 with 1 Axes>"
            ]
          },
          "metadata": {
            "tags": [],
            "needs_background": "light"
          }
        }
      ]
    },
    {
      "cell_type": "code",
      "metadata": {
        "id": "sAhtJsanaoHz",
        "colab_type": "code",
        "colab": {
          "base_uri": "https://localhost:8080/",
          "height": 483
        },
        "outputId": "e9a6db9c-3e39-4fea-a855-f8a6516f4a2b"
      },
      "source": [
        "pd.DataFrame({'accuracy':history.history['accuracy'],\n",
        "              'val_accuracy':history.history['val_accuracy']\n",
        "              }).plot(figsize=(8, 8))\n",
        "plt.grid(True)"
      ],
      "execution_count": 17,
      "outputs": [
        {
          "output_type": "display_data",
          "data": {
            "image/png": "[encoded data removed]",
            "text/plain": [
              "<Figure size 576x576 with 1 Axes>"
            ]
          },
          "metadata": {
            "tags": [],
            "needs_background": "light"
          }
        }
      ]
    },
    {
      "cell_type": "code",
      "metadata": {
        "id": "xTETNhFRc6XD",
        "colab_type": "code",
        "colab": {}
      },
      "source": [
        "model.save(\"densenet.h5\")"
      ],
      "execution_count": 0,
      "outputs": []
    },
    {
      "cell_type": "markdown",
      "metadata": {
        "id": "i4GInig6tkIg",
        "colab_type": "text"
      },
      "source": [
        "#Fine tune"
      ]
    },
    {
      "cell_type": "code",
      "metadata": {
        "id": "ZMO9GD9gtWy4",
        "colab_type": "code",
        "colab": {}
      },
      "source": [
        "densenet.trainable = True"
      ],
      "execution_count": 0,
      "outputs": []
    },
    {
      "cell_type": "code",
      "metadata": {
        "id": "B0hiVcCJtvv6",
        "colab_type": "code",
        "colab": {
          "base_uri": "https://localhost:8080/",
          "height": 34
        },
        "outputId": "8dcbca07-b962-4c7b-819d-a8c222681a9f"
      },
      "source": [
        "len(densenet.layers)"
      ],
      "execution_count": 20,
      "outputs": [
        {
          "output_type": "execute_result",
          "data": {
            "text/plain": [
              "595"
            ]
          },
          "metadata": {
            "tags": []
          },
          "execution_count": 20
        }
      ]
    },
    {
      "cell_type": "code",
      "metadata": {
        "id": "7NlEme-tu8sf",
        "colab_type": "code",
        "colab": {}
      },
      "source": [
        "fine_tune_at = 550\n",
        "for layer in densenet.layers[:fine_tune_at]:\n",
        "  layer.trainable =  False"
      ],
      "execution_count": 0,
      "outputs": []
    },
    {
      "cell_type": "code",
      "metadata": {
        "id": "gNIE9ovXtxT8",
        "colab_type": "code",
        "colab": {
          "base_uri": "https://localhost:8080/",
          "height": 255
        },
        "outputId": "ead0a2ea-2985-471c-fb05-d69a73a37f11"
      },
      "source": [
        "model.compile(loss=tf.keras.losses.BinaryCrossentropy(from_logits=True),\n",
        "              optimizer = tf.keras.optimizers.RMSprop(lr=0.00001),\n",
        "              metrics=['accuracy'])\n",
        "model.summary()"
      ],
      "execution_count": 22,
      "outputs": [
        {
          "output_type": "stream",
          "text": [
            "Model: \"sequential\"\n",
            "_________________________________________________________________\n",
            "Layer (type)                 Output Shape              Param #   \n",
            "=================================================================\n",
            "densenet169 (Model)          (None, 5, 5, 1664)        12642880  \n",
            "_________________________________________________________________\n",
            "global_average_pooling2d (Gl (None, 1664)              0         \n",
            "_________________________________________________________________\n",
            "dense (Dense)                (None, 1)                 1665      \n",
            "=================================================================\n",
            "Total params: 12,644,545\n",
            "Trainable params: 1,438,273\n",
            "Non-trainable params: 11,206,272\n",
            "_________________________________________________________________\n"
          ],
          "name": "stdout"
        }
      ]
    },
    {
      "cell_type": "code",
      "metadata": {
        "id": "8ZChOMUvt7-6",
        "colab_type": "code",
        "colab": {
          "base_uri": "https://localhost:8080/",
          "height": 391
        },
        "outputId": "64e13ec6-2805-4f1c-9491-8357baa74f4e"
      },
      "source": [
        "total_epochs =  20\n",
        "\n",
        "history_fine = model.fit(train_batches,\n",
        "                         epochs=total_epochs,\n",
        "                         initial_epoch =  history.epoch[-1],\n",
        "                         validation_data=valid_batches)"
      ],
      "execution_count": 23,
      "outputs": [
        {
          "output_type": "stream",
          "text": [
            "Epoch 10/20\n",
            "437/437 [==============================] - 70s 161ms/step - loss: 0.0533 - accuracy: 0.9834 - val_loss: 0.0367 - val_accuracy: 0.9885\n",
            "Epoch 11/20\n",
            "437/437 [==============================] - 69s 157ms/step - loss: 0.0450 - accuracy: 0.9834 - val_loss: 0.0337 - val_accuracy: 0.9891\n",
            "Epoch 12/20\n",
            "437/437 [==============================] - 68s 155ms/step - loss: 0.0413 - accuracy: 0.9849 - val_loss: 0.0321 - val_accuracy: 0.9898\n",
            "Epoch 13/20\n",
            "437/437 [==============================] - 67s 154ms/step - loss: 0.0348 - accuracy: 0.9871 - val_loss: 0.0310 - val_accuracy: 0.9900\n",
            "Epoch 14/20\n",
            "437/437 [==============================] - 67s 154ms/step - loss: 0.0335 - accuracy: 0.9874 - val_loss: 0.0303 - val_accuracy: 0.9901\n",
            "Epoch 15/20\n",
            "437/437 [==============================] - 67s 153ms/step - loss: 0.0323 - accuracy: 0.9870 - val_loss: 0.0300 - val_accuracy: 0.9907\n",
            "Epoch 16/20\n",
            "437/437 [==============================] - 67s 154ms/step - loss: 0.0278 - accuracy: 0.9898 - val_loss: 0.0293 - val_accuracy: 0.9907\n",
            "Epoch 17/20\n",
            "437/437 [==============================] - 67s 154ms/step - loss: 0.0264 - accuracy: 0.9903 - val_loss: 0.0292 - val_accuracy: 0.9904\n",
            "Epoch 18/20\n",
            "437/437 [==============================] - 67s 154ms/step - loss: 0.0253 - accuracy: 0.9915 - val_loss: 0.0291 - val_accuracy: 0.9903\n",
            "Epoch 19/20\n",
            "437/437 [==============================] - 68s 155ms/step - loss: 0.0202 - accuracy: 0.9930 - val_loss: 0.0290 - val_accuracy: 0.9901\n",
            "Epoch 20/20\n",
            "437/437 [==============================] - 68s 155ms/step - loss: 0.0183 - accuracy: 0.9938 - val_loss: 0.0287 - val_accuracy: 0.9905\n"
          ],
          "name": "stdout"
        }
      ]
    },
    {
      "cell_type": "code",
      "metadata": {
        "id": "KoGWtkvxLDB0",
        "colab_type": "code",
        "colab": {
          "base_uri": "https://localhost:8080/",
          "height": 51
        },
        "outputId": "ef88e9ed-1d49-4ac5-ab97-ad9b6b75bbb1"
      },
      "source": [
        "model.evaluate(test_batches)"
      ],
      "execution_count": 24,
      "outputs": [
        {
          "output_type": "stream",
          "text": [
            "73/73 [==============================] - 6s 80ms/step - loss: 0.0343 - accuracy: 0.9867\n"
          ],
          "name": "stdout"
        },
        {
          "output_type": "execute_result",
          "data": {
            "text/plain": [
              "[0.034257806837558746, 0.9866724014282227]"
            ]
          },
          "metadata": {
            "tags": []
          },
          "execution_count": 24
        }
      ]
    },
    {
      "cell_type": "code",
      "metadata": {
        "id": "qel06YCFQXS8",
        "colab_type": "code",
        "colab": {}
      },
      "source": [
        "model.save(\"densenet_finetuned.h5\")"
      ],
      "execution_count": 0,
      "outputs": []
    }
  ]
}