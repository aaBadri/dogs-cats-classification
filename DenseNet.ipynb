{
  "nbformat": 4,
  "nbformat_minor": 0,
  "metadata": {
    "colab": {
      "name": "DenseNet.ipynb",
      "provenance": [],
      "toc_visible": true,
      "authorship_tag": "ABX9TyPG0NQ2693VvmJalT5uvLDP",
      "include_colab_link": true
    },
    "kernelspec": {
      "name": "python3",
      "display_name": "Python 3"
    },
    "accelerator": "GPU"
  },
  "cells": [
    {
      "cell_type": "markdown",
      "metadata": {
        "id": "view-in-github",
        "colab_type": "text"
      },
      "source": [
        "<a href=\"https://colab.research.google.com/github/aliakbarbadri/dogs-cats-classification/blob/master/DenseNet.ipynb\" target=\"_parent\"><img src=\"https://colab.research.google.com/assets/colab-badge.svg\" alt=\"Open In Colab\"/></a>"
      ]
    },
    {
      "cell_type": "code",
      "metadata": {
        "id": "aCqgHdFBDvaM",
        "colab_type": "code",
        "colab": {}
      },
      "source": [
        "import tensorflow as tf\n",
        "from tensorflow import keras\n",
        "from tensorflow.keras.models import Sequential\n",
        "from tensorflow.keras.layers import Dense, Conv2D, Flatten, Dropout, MaxPooling2D, Activation\n",
        "from tensorflow.keras.applications import DenseNet169\n",
        "import tensorflow_datasets as tfds\n",
        "import numpy as np\n",
        "import os\n",
        "import matplotlib.pyplot as plt\n",
        "import pandas as pd\n",
        "from google.colab import files"
      ],
      "execution_count": 0,
      "outputs": []
    },
    {
      "cell_type": "markdown",
      "metadata": {
        "id": "WdwlrpTlWEqS",
        "colab_type": "text"
      },
      "source": [
        "https://www.kaggle.com/xhlulu/densenet-transfer-learning-iwildcam-2019\n",
        "\n",
        "https://www.tensorflow.org/tutorials/images/transfer_learning"
      ]
    },
    {
      "cell_type": "code",
      "metadata": {
        "id": "9v5aXL7bUBYR",
        "colab_type": "code",
        "colab": {}
      },
      "source": [
        "(raw_train, raw_valid, raw_test), info = tfds.load(\n",
        "    'cats_vs_dogs',\n",
        "    split=['train[:60%]', 'train[60%:90%]', 'train[90%:]'],\n",
        "    with_info=True,\n",
        "    as_supervised=True,\n",
        ")"
      ],
      "execution_count": 0,
      "outputs": []
    },
    {
      "cell_type": "code",
      "metadata": {
        "id": "yjGwbVYZUE91",
        "colab_type": "code",
        "colab": {}
      },
      "source": [
        "IMG_SIZE = 160\n",
        "def resize_image(image, label):\n",
        "  image = tf.cast(image, tf.float32)\n",
        "  image = (image/127.5) - 1\n",
        "  image = tf.image.resize(image, (IMG_SIZE, IMG_SIZE))\n",
        "  return image, label"
      ],
      "execution_count": 0,
      "outputs": []
    },
    {
      "cell_type": "code",
      "metadata": {
        "id": "wT0h-ywmUHjp",
        "colab_type": "code",
        "colab": {}
      },
      "source": [
        "train = raw_train.map(resize_image)\n",
        "valid = raw_valid.map(resize_image)\n",
        "test = raw_test.map(resize_image)"
      ],
      "execution_count": 0,
      "outputs": []
    },
    {
      "cell_type": "code",
      "metadata": {
        "id": "JrsbGr76UJQy",
        "colab_type": "code",
        "colab": {}
      },
      "source": [
        "BATCH_SIZE = 32\n",
        "SHUFFLE_BUFFER_SIZE = 1000\n",
        "train_batches = train.shuffle(SHUFFLE_BUFFER_SIZE).batch(BATCH_SIZE)\n",
        "valid_batches = valid.batch(BATCH_SIZE)\n",
        "test_batches = test.batch(BATCH_SIZE)"
      ],
      "execution_count": 0,
      "outputs": []
    },
    {
      "cell_type": "code",
      "metadata": {
        "id": "2h763kFsUPHR",
        "colab_type": "code",
        "colab": {}
      },
      "source": [
        "IMG_SHAPE = (IMG_SIZE, IMG_SIZE, 3)"
      ],
      "execution_count": 0,
      "outputs": []
    },
    {
      "cell_type": "code",
      "metadata": {
        "id": "jabl2Kisz15B",
        "colab_type": "code",
        "outputId": "43b2cb48-759d-4819-a013-73e8503373fa",
        "colab": {
          "base_uri": "https://localhost:8080/",
          "height": 34
        }
      },
      "source": [
        "for image_batch, label_batch in train_batches.take(1):\n",
        "   pass\n",
        "\n",
        "image_batch.shape"
      ],
      "execution_count": 37,
      "outputs": [
        {
          "output_type": "execute_result",
          "data": {
            "text/plain": [
              "TensorShape([32, 160, 160, 3])"
            ]
          },
          "metadata": {
            "tags": []
          },
          "execution_count": 37
        }
      ]
    },
    {
      "cell_type": "code",
      "metadata": {
        "id": "T2t8fH_yURkv",
        "colab_type": "code",
        "outputId": "c104fc82-5f7f-4189-afa6-0b5cd249a765",
        "colab": {
          "base_uri": "https://localhost:8080/",
          "height": 34
        }
      },
      "source": [
        "densenet = DenseNet169(include_top=False,input_shape=IMG_SHAPE,weights='imagenet')\n",
        "feature_batch = densenet(image_batch)\n",
        "print(feature_batch.shape)"
      ],
      "execution_count": 38,
      "outputs": [
        {
          "output_type": "stream",
          "text": [
            "(32, 5, 5, 1664)\n"
          ],
          "name": "stdout"
        }
      ]
    },
    {
      "cell_type": "code",
      "metadata": {
        "id": "9miXzM-YWxBF",
        "colab_type": "code",
        "colab": {}
      },
      "source": [
        "densenet.trainable = False"
      ],
      "execution_count": 0,
      "outputs": []
    },
    {
      "cell_type": "code",
      "metadata": {
        "id": "pp2oyAmeZFwg",
        "colab_type": "code",
        "outputId": "ce361a5b-e8f7-41f5-a98c-6ac511a5457e",
        "colab": {
          "base_uri": "https://localhost:8080/",
          "height": 51
        }
      },
      "source": [
        "global_average_layer = tf.keras.layers.GlobalAveragePooling2D()\n",
        "feature_batch_average = global_average_layer(feature_batch)\n",
        "print(feature_batch_average.shape)\n",
        "\n",
        "prediction_layer = tf.keras.layers.Dense(1)\n",
        "prediction_batch = prediction_layer(feature_batch_average)\n",
        "print(prediction_batch.shape)"
      ],
      "execution_count": 40,
      "outputs": [
        {
          "output_type": "stream",
          "text": [
            "(32, 1664)\n",
            "(32, 1)\n"
          ],
          "name": "stdout"
        }
      ]
    },
    {
      "cell_type": "code",
      "metadata": {
        "id": "5ZcxilZob183",
        "colab_type": "code",
        "colab": {}
      },
      "source": [
        "model = tf.keras.Sequential([\n",
        "  densenet,\n",
        "  global_average_layer,\n",
        "  prediction_layer\n",
        "])"
      ],
      "execution_count": 0,
      "outputs": []
    },
    {
      "cell_type": "code",
      "metadata": {
        "id": "9eeO4qHjZLar",
        "colab_type": "code",
        "colab": {}
      },
      "source": [
        "model.compile(optimizer=tf.keras.optimizers.RMSprop(lr=0.0001),\n",
        "              loss=tf.keras.losses.BinaryCrossentropy(from_logits=True),\n",
        "              metrics=['accuracy'])"
      ],
      "execution_count": 0,
      "outputs": []
    },
    {
      "cell_type": "code",
      "metadata": {
        "id": "NM2ekDihZVtG",
        "colab_type": "code",
        "outputId": "e6e89418-7dad-4cb2-e1bc-1201da6effdf",
        "colab": {
          "base_uri": "https://localhost:8080/",
          "height": 255
        }
      },
      "source": [
        "model.summary()"
      ],
      "execution_count": 43,
      "outputs": [
        {
          "output_type": "stream",
          "text": [
            "Model: \"sequential_1\"\n",
            "_________________________________________________________________\n",
            "Layer (type)                 Output Shape              Param #   \n",
            "=================================================================\n",
            "densenet169 (Model)          (None, 5, 5, 1664)        12642880  \n",
            "_________________________________________________________________\n",
            "global_average_pooling2d_1 ( (None, 1664)              0         \n",
            "_________________________________________________________________\n",
            "dense_1 (Dense)              (None, 1)                 1665      \n",
            "=================================================================\n",
            "Total params: 12,644,545\n",
            "Trainable params: 1,665\n",
            "Non-trainable params: 12,642,880\n",
            "_________________________________________________________________\n"
          ],
          "name": "stdout"
        }
      ]
    },
    {
      "cell_type": "code",
      "metadata": {
        "id": "zbRCM-bqaSlT",
        "colab_type": "code",
        "outputId": "f0ad73d2-7eff-41d1-aff5-8e84616000f7",
        "colab": {
          "base_uri": "https://localhost:8080/",
          "height": 357
        }
      },
      "source": [
        "history = model.fit(train_batches,epochs=10,validation_data=valid_batches)"
      ],
      "execution_count": 44,
      "outputs": [
        {
          "output_type": "stream",
          "text": [
            "Epoch 1/10\n",
            "437/437 [==============================] - 71s 161ms/step - loss: 0.2522 - accuracy: 0.8907 - val_loss: 0.0687 - val_accuracy: 0.9805\n",
            "Epoch 2/10\n",
            "437/437 [==============================] - 67s 153ms/step - loss: 0.0611 - accuracy: 0.9796 - val_loss: 0.0464 - val_accuracy: 0.9842\n",
            "Epoch 3/10\n",
            "437/437 [==============================] - 66s 152ms/step - loss: 0.0489 - accuracy: 0.9822 - val_loss: 0.0404 - val_accuracy: 0.9854\n",
            "Epoch 4/10\n",
            "437/437 [==============================] - 65s 149ms/step - loss: 0.0441 - accuracy: 0.9834 - val_loss: 0.0377 - val_accuracy: 0.9870\n",
            "Epoch 5/10\n",
            "437/437 [==============================] - 67s 153ms/step - loss: 0.0411 - accuracy: 0.9848 - val_loss: 0.0358 - val_accuracy: 0.9870\n",
            "Epoch 6/10\n",
            "437/437 [==============================] - 68s 156ms/step - loss: 0.0392 - accuracy: 0.9853 - val_loss: 0.0344 - val_accuracy: 0.9874\n",
            "Epoch 7/10\n",
            "437/437 [==============================] - 68s 155ms/step - loss: 0.0376 - accuracy: 0.9860 - val_loss: 0.0334 - val_accuracy: 0.9875\n",
            "Epoch 8/10\n",
            "437/437 [==============================] - 68s 156ms/step - loss: 0.0363 - accuracy: 0.9857 - val_loss: 0.0331 - val_accuracy: 0.9881\n",
            "Epoch 9/10\n",
            "437/437 [==============================] - 69s 157ms/step - loss: 0.0353 - accuracy: 0.9868 - val_loss: 0.0321 - val_accuracy: 0.9884\n",
            "Epoch 10/10\n",
            "437/437 [==============================] - 69s 157ms/step - loss: 0.0344 - accuracy: 0.9871 - val_loss: 0.0319 - val_accuracy: 0.9887\n"
          ],
          "name": "stdout"
        }
      ]
    },
    {
      "cell_type": "code",
      "metadata": {
        "id": "yrkQNPu7cFY4",
        "colab_type": "code",
        "outputId": "7a5d34ff-f821-460f-f2c4-5d6e74da38ff",
        "colab": {
          "base_uri": "https://localhost:8080/",
          "height": 51
        }
      },
      "source": [
        "model.evaluate(test_batches)"
      ],
      "execution_count": 45,
      "outputs": [
        {
          "output_type": "stream",
          "text": [
            "73/73 [==============================] - 6s 88ms/step - loss: 0.0442 - accuracy: 0.9837\n"
          ],
          "name": "stdout"
        },
        {
          "output_type": "execute_result",
          "data": {
            "text/plain": [
              "[0.04421354830265045, 0.9836629629135132]"
            ]
          },
          "metadata": {
            "tags": []
          },
          "execution_count": 45
        }
      ]
    },
    {
      "cell_type": "code",
      "metadata": {
        "id": "yX9qvSopaU2n",
        "colab_type": "code",
        "outputId": "fa329657-3e16-4066-a1bb-7212e3f96555",
        "colab": {
          "base_uri": "https://localhost:8080/",
          "height": 483
        }
      },
      "source": [
        "pd.DataFrame({'loss':history.history['loss'],\n",
        "              'valid_loss':history.history['val_loss'],\n",
        "              }).plot(figsize=(8, 8))\n",
        "plt.grid(True)"
      ],
      "execution_count": 46,
      "outputs": [
        {
          "output_type": "display_data",
          "data": {
            "image/png": "[encoded data removed]",
            "text/plain": [
              "<Figure size 576x576 with 1 Axes>"
            ]
          },
          "metadata": {
            "tags": [],
            "needs_background": "light"
          }
        }
      ]
    },
    {
      "cell_type": "code",
      "metadata": {
        "id": "sAhtJsanaoHz",
        "colab_type": "code",
        "outputId": "acb2fedf-1675-413f-d0f9-811a8d2cd63b",
        "colab": {
          "base_uri": "https://localhost:8080/",
          "height": 483
        }
      },
      "source": [
        "pd.DataFrame({'accuracy':history.history['accuracy'],\n",
        "              'val_accuracy':history.history['val_accuracy']\n",
        "              }).plot(figsize=(8, 8))\n",
        "plt.grid(True)"
      ],
      "execution_count": 47,
      "outputs": [
        {
          "output_type": "display_data",
          "data": {
            "image/png": "[encoded data removed]",
            "text/plain": [
              "<Figure size 576x576 with 1 Axes>"
            ]
          },
          "metadata": {
            "tags": [],
            "needs_background": "light"
          }
        }
      ]
    },
    {
      "cell_type": "code",
      "metadata": {
        "id": "xTETNhFRc6XD",
        "colab_type": "code",
        "colab": {}
      },
      "source": [
        "model.save(\"densenet.h5\")"
      ],
      "execution_count": 0,
      "outputs": []
    },
    {
      "cell_type": "markdown",
      "metadata": {
        "id": "i4GInig6tkIg",
        "colab_type": "text"
      },
      "source": [
        "#Fine tune"
      ]
    },
    {
      "cell_type": "code",
      "metadata": {
        "id": "ZMO9GD9gtWy4",
        "colab_type": "code",
        "colab": {}
      },
      "source": [
        "densenet.trainable = True"
      ],
      "execution_count": 0,
      "outputs": []
    },
    {
      "cell_type": "code",
      "metadata": {
        "id": "B0hiVcCJtvv6",
        "colab_type": "code",
        "outputId": "74ed04d4-07fa-40dd-f9bb-7ee1c66c491e",
        "colab": {
          "base_uri": "https://localhost:8080/",
          "height": 34
        }
      },
      "source": [
        "len(densenet.layers)"
      ],
      "execution_count": 50,
      "outputs": [
        {
          "output_type": "execute_result",
          "data": {
            "text/plain": [
              "595"
            ]
          },
          "metadata": {
            "tags": []
          },
          "execution_count": 50
        }
      ]
    },
    {
      "cell_type": "code",
      "metadata": {
        "id": "7NlEme-tu8sf",
        "colab_type": "code",
        "colab": {}
      },
      "source": [
        "fine_tune_at = 550\n",
        "for layer in densenet.layers[:fine_tune_at]:\n",
        "  layer.trainable =  False"
      ],
      "execution_count": 0,
      "outputs": []
    },
    {
      "cell_type": "code",
      "metadata": {
        "id": "gNIE9ovXtxT8",
        "colab_type": "code",
        "outputId": "934d4b22-2f35-45f3-fee9-4ac0f51d56c9",
        "colab": {
          "base_uri": "https://localhost:8080/",
          "height": 255
        }
      },
      "source": [
        "model.compile(loss=tf.keras.losses.BinaryCrossentropy(from_logits=True),\n",
        "              optimizer = tf.keras.optimizers.RMSprop(lr=0.00001),\n",
        "              metrics=['accuracy'])\n",
        "model.summary()"
      ],
      "execution_count": 52,
      "outputs": [
        {
          "output_type": "stream",
          "text": [
            "Model: \"sequential_1\"\n",
            "_________________________________________________________________\n",
            "Layer (type)                 Output Shape              Param #   \n",
            "=================================================================\n",
            "densenet169 (Model)          (None, 5, 5, 1664)        12642880  \n",
            "_________________________________________________________________\n",
            "global_average_pooling2d_1 ( (None, 1664)              0         \n",
            "_________________________________________________________________\n",
            "dense_1 (Dense)              (None, 1)                 1665      \n",
            "=================================================================\n",
            "Total params: 12,644,545\n",
            "Trainable params: 1,438,273\n",
            "Non-trainable params: 11,206,272\n",
            "_________________________________________________________________\n"
          ],
          "name": "stdout"
        }
      ]
    },
    {
      "cell_type": "code",
      "metadata": {
        "id": "8ZChOMUvt7-6",
        "colab_type": "code",
        "outputId": "4316f483-1268-46aa-a070-3de4deffbe9a",
        "colab": {
          "base_uri": "https://localhost:8080/",
          "height": 391
        }
      },
      "source": [
        "total_epochs =  20\n",
        "\n",
        "history_fine = model.fit(train_batches,\n",
        "                         epochs=total_epochs,\n",
        "                         initial_epoch =  history.epoch[-1],\n",
        "                         validation_data=valid_batches)"
      ],
      "execution_count": 53,
      "outputs": [
        {
          "output_type": "stream",
          "text": [
            "Epoch 10/20\n",
            "437/437 [==============================] - 74s 169ms/step - loss: 0.0512 - accuracy: 0.9827 - val_loss: 0.0346 - val_accuracy: 0.9884\n",
            "Epoch 11/20\n",
            "437/437 [==============================] - 70s 161ms/step - loss: 0.0430 - accuracy: 0.9839 - val_loss: 0.0317 - val_accuracy: 0.9895\n",
            "Epoch 12/20\n",
            "437/437 [==============================] - 70s 160ms/step - loss: 0.0406 - accuracy: 0.9842 - val_loss: 0.0303 - val_accuracy: 0.9903\n",
            "Epoch 13/20\n",
            "437/437 [==============================] - 69s 158ms/step - loss: 0.0342 - accuracy: 0.9882 - val_loss: 0.0292 - val_accuracy: 0.9904\n",
            "Epoch 14/20\n",
            "437/437 [==============================] - 71s 162ms/step - loss: 0.0321 - accuracy: 0.9872 - val_loss: 0.0287 - val_accuracy: 0.9911\n",
            "Epoch 15/20\n",
            "437/437 [==============================] - 71s 163ms/step - loss: 0.0283 - accuracy: 0.9898 - val_loss: 0.0282 - val_accuracy: 0.9910\n",
            "Epoch 16/20\n",
            "437/437 [==============================] - 71s 162ms/step - loss: 0.0280 - accuracy: 0.9893 - val_loss: 0.0279 - val_accuracy: 0.9913\n",
            "Epoch 17/20\n",
            "437/437 [==============================] - 71s 163ms/step - loss: 0.0238 - accuracy: 0.9918 - val_loss: 0.0274 - val_accuracy: 0.9911\n",
            "Epoch 18/20\n",
            "437/437 [==============================] - 72s 164ms/step - loss: 0.0228 - accuracy: 0.9920 - val_loss: 0.0270 - val_accuracy: 0.9907\n",
            "Epoch 19/20\n",
            "437/437 [==============================] - 71s 162ms/step - loss: 0.0205 - accuracy: 0.9929 - val_loss: 0.0272 - val_accuracy: 0.9905\n",
            "Epoch 20/20\n",
            "437/437 [==============================] - 70s 161ms/step - loss: 0.0193 - accuracy: 0.9930 - val_loss: 0.0272 - val_accuracy: 0.9910\n"
          ],
          "name": "stdout"
        }
      ]
    },
    {
      "cell_type": "code",
      "metadata": {
        "id": "KoGWtkvxLDB0",
        "colab_type": "code",
        "outputId": "fe00b1fe-7814-4b87-902c-b8cfb7c62a9d",
        "colab": {
          "base_uri": "https://localhost:8080/",
          "height": 51
        }
      },
      "source": [
        "model.evaluate(test_batches)"
      ],
      "execution_count": 54,
      "outputs": [
        {
          "output_type": "stream",
          "text": [
            "73/73 [==============================] - 6s 81ms/step - loss: 0.0353 - accuracy: 0.9867\n"
          ],
          "name": "stdout"
        },
        {
          "output_type": "execute_result",
          "data": {
            "text/plain": [
              "[0.03533817455172539, 0.9866724014282227]"
            ]
          },
          "metadata": {
            "tags": []
          },
          "execution_count": 54
        }
      ]
    },
    {
      "cell_type": "code",
      "metadata": {
        "id": "qel06YCFQXS8",
        "colab_type": "code",
        "colab": {}
      },
      "source": [
        "model.save(\"densenet_finetuned_45.h5\")"
      ],
      "execution_count": 0,
      "outputs": []
    },
    {
      "cell_type": "code",
      "metadata": {
        "id": "NDzvwXR-oDkh",
        "colab_type": "code",
        "colab": {}
      },
      "source": [
        "# files.download(\"densenet_finetuned_45.h5\")"
      ],
      "execution_count": 0,
      "outputs": []
    }
  ]
}